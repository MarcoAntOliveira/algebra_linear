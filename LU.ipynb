{
 "cells": [
  {
   "cell_type": "code",
   "execution_count": 1,
   "metadata": {},
   "outputs": [],
   "source": [
    "import numpy as np"
   ]
  },
  {
   "cell_type": "code",
   "execution_count": 2,
   "metadata": {},
   "outputs": [],
   "source": [
    "def lu_decomposition(A):\n",
    "    n = len(A)\n",
    "    L = np.zeros((n, n))\n",
    "    U = np.zeros((n, n))\n",
    "\n",
    "    for j in range(n):\n",
    "        L[j][j] = 1\n",
    "\n",
    "        for i in range(j+1):\n",
    "            s1 = sum(U[k][j] * L[i][k] for k in range(i))\n",
    "            U[i][j] = A[i][j] - s1\n",
    "\n",
    "        for i in range(j, n):\n",
    "            s2 = sum(U[k][j] * L[i][k] for k in range(j))\n",
    "            L[i][j] = (A[i][j] - s2) / U[j][j]\n",
    "\n",
    "    return L, U\n"
   ]
  },
  {
   "cell_type": "code",
   "execution_count": 3,
   "metadata": {},
   "outputs": [],
   "source": [
    "def solve_lu(L, U, B):\n",
    "    n = len(B)\n",
    "    Y = np.zeros(n)\n",
    "    X = np.zeros(n)\n",
    "\n",
    "    # Solve LY = B\n",
    "    for i in range(n):\n",
    "        Y[i] = B[i] - sum(L[i][j] * Y[j] for j in range(i))\n",
    "\n",
    "    # Solve UX = Y\n",
    "    for i in range(n-1, -1, -1):\n",
    "        X[i] = (Y[i] - sum(U[i][j] * X[j] for j in range(i+1, n))) / U[i][i]\n",
    "\n",
    "    return X\n"
   ]
  },
  {
   "cell_type": "code",
   "execution_count": 4,
   "metadata": {},
   "outputs": [
    {
     "name": "stdout",
     "output_type": "stream",
     "text": [
      "A solução do sistema é:\n",
      "x = -20.95238095238096\n",
      "y = -112.3809523809524\n",
      "z = 24.76190476190476\n"
     ]
    }
   ],
   "source": [
    "# Coeficientes do sistema\n",
    "A = np.array([[3, -1, -2],\n",
    "              [8, -3, -2],\n",
    "              [6, -5, -16]])\n",
    "\n",
    "# Termos independentes\n",
    "B = np.array([0, 120, 40])\n",
    "\n",
    "# Decomposição LU\n",
    "L, U = lu_decomposition(A)\n",
    "\n",
    "# Resolver o sistema\n",
    "X = solve_lu(L, U, B)\n",
    "\n",
    "# Imprimir a solução\n",
    "print(\"A solução do sistema é:\")\n",
    "print(\"x =\", X[0])\n",
    "print(\"y =\", X[1])\n",
    "print(\"z =\", X[2])\n"
   ]
  }
 ],
 "metadata": {
  "kernelspec": {
   "display_name": "amb",
   "language": "python",
   "name": "python3"
  },
  "language_info": {
   "codemirror_mode": {
    "name": "ipython",
    "version": 3
   },
   "file_extension": ".py",
   "mimetype": "text/x-python",
   "name": "python",
   "nbconvert_exporter": "python",
   "pygments_lexer": "ipython3",
   "version": "3.11.5"
  }
 },
 "nbformat": 4,
 "nbformat_minor": 2
}
