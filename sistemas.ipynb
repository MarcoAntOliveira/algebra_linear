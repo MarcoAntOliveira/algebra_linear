{
 "cells": [
  {
   "cell_type": "markdown",
   "metadata": {},
   "source": [
    " *Este código se destina a resolução de sistemas 3x3*"
   ]
  },
  {
   "cell_type": "code",
   "execution_count": 2,
   "metadata": {},
   "outputs": [],
   "source": [
    "import numpy as np"
   ]
  },
  {
   "cell_type": "code",
   "execution_count": 3,
   "metadata": {},
   "outputs": [
    {
     "name": "stdout",
     "output_type": "stream",
     "text": [
      "A solução do sistema é:\n",
      "x = -20.952380952380953\n",
      "y = -112.38095238095238\n",
      "z = 24.761904761904763\n"
     ]
    }
   ],
   "source": [
    "\n",
    "# Coeficientes do sistema\n",
    "A = np.array([[3, -1, -2],\n",
    "              [8, -3, -2],\n",
    "              [6, -5, -16]])\n",
    "\n",
    "# Termos independentes\n",
    "B = np.array([0, 120, 40])\n",
    "\n",
    "# Resolver o sistema\n",
    "X = np.linalg.solve(A, B)\n",
    "\n",
    "# Imprimir a solução\n",
    "print(\"A solução do sistema é:\")\n",
    "print(\"x =\", X[0])\n",
    "print(\"y =\", X[1])\n",
    "print(\"z =\", X[2])\n"
   ]
  },
  {
   "cell_type": "code",
   "execution_count": 4,
   "metadata": {},
   "outputs": [
    {
     "name": "stdout",
     "output_type": "stream",
     "text": [
      "A solução do sistema é:\n",
      "x = 26.666666666666668\n",
      "y = 173.33333333333331\n",
      "z = -46.666666666666664\n"
     ]
    }
   ],
   "source": [
    "\n",
    "# Coeficientes do sistema\n",
    "A = np.array([[6, -1, -2],\n",
    "              [6, -5, -16],\n",
    "              [3, -1, -2]])\n",
    "\n",
    "# Termos independentes\n",
    "B = np.array([80, 40 , 0])\n",
    "\n",
    "# Resolver o sistema\n",
    "X = np.linalg.solve(A, B)\n",
    "\n",
    "# Imprimir a solução\n",
    "print(\"A solução do sistema é:\")\n",
    "print(\"x =\", X[0])\n",
    "print(\"y =\", X[1])\n",
    "print(\"z =\", X[2])\n"
   ]
  },
  {
   "cell_type": "code",
   "execution_count": 6,
   "metadata": {},
   "outputs": [
    {
     "name": "stdout",
     "output_type": "stream",
     "text": [
      "A solução do sistema pelo numpy é:\n",
      "x = 0.9\n",
      "y = 0.30000000000000004\n",
      "z = 0.6\n",
      "A solução do sistema pelo método L.U é:\n",
      "x = 0.9\n",
      "y = 0.3\n",
      "z = 0.6\n"
     ]
    }
   ],
   "source": [
    "from LU import lu_decomposition, solve_lu\n",
    "A = np.array([[22, -10, 12],\n",
    "              [-10, 38, -4],\n",
    "              [-8, -8, 16]])\n",
    "\n",
    "# Termos independentes\n",
    "B = np.array([24, 0, 0])\n",
    "\n",
    "X = np.linalg.solve(A, B)\n",
    "\n",
    "# Imprimir a solução\n",
    "print(\"A solução do sistema pelo numpy é:\" )\n",
    "print(\"x =\", X[0])\n",
    "print(\"y =\", X[1])\n",
    "print(\"z =\", X[2])\n",
    "\n",
    "L, U = lu_decomposition(A)\n",
    "\n",
    "# Resolver o sistema\n",
    "X = solve_lu(L, U, B)\n",
    "\n",
    "# Imprimir a solução\n",
    "print(\"A solução do sistema pelo método L.U é:\")\n",
    "print(\"x =\", X[0])\n",
    "print(\"y =\", X[1])\n",
    "print(\"z =\", X[2])\n",
    "\n"
   ]
  }
 ],
 "metadata": {
  "kernelspec": {
   "display_name": "amb",
   "language": "python",
   "name": "python3"
  },
  "language_info": {
   "codemirror_mode": {
    "name": "ipython",
    "version": 3
   },
   "file_extension": ".py",
   "mimetype": "text/x-python",
   "name": "python",
   "nbconvert_exporter": "python",
   "pygments_lexer": "ipython3",
   "version": "3.11.5"
  }
 },
 "nbformat": 4,
 "nbformat_minor": 2
}
